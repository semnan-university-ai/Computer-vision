{
 "cells": [
  {
   "cell_type": "markdown",
   "metadata": {},
   "source": [
    "<h2 style=\"  direction: rtl;\">\n",
    "    1 - \n",
    "آرایه زیر موجود است بزرگترین را بیابید\n",
    "</h2>\n",
    "n=[23, 3, 45, 96, 11, 7, 36, 9, 27, 85]"
   ]
  },
  {
   "cell_type": "code",
   "execution_count": 327,
   "metadata": {},
   "outputs": [
    {
     "name": "stdout",
     "output_type": "stream",
     "text": [
      "largest number is :  96\n"
     ]
    }
   ],
   "source": [
    "# without python function\n",
    "\n",
    "n=[23, 3, 45, 96, 11, 7, 36, 9, 27, 85]\n",
    "max_num = 0\n",
    "for i in n:\n",
    "    if i > max_num:\n",
    "        max_num = i\n",
    "print(\"largest number is : \" , max_num)"
   ]
  },
  {
   "cell_type": "markdown",
   "metadata": {},
   "source": [
    "<h2 style=\"direction: rtl;\">\n",
    "    2 - \n",
    "آرایه بالا را مرتب کنید\n",
    "</h2>"
   ]
  },
  {
   "cell_type": "code",
   "execution_count": 328,
   "metadata": {},
   "outputs": [
    {
     "data": {
      "text/plain": [
       "[3, 7, 9, 11, 23, 27, 36, 45, 85, 96]"
      ]
     },
     "execution_count": 328,
     "metadata": {},
     "output_type": "execute_result"
    }
   ],
   "source": [
    "def quicksort(xs):\n",
    "    if xs:\n",
    "        pivot = xs[0]\n",
    "        below = [i for i in xs[1:] if i < pivot] \n",
    "        above = [i for i in xs[1:] if i >= pivot]\n",
    "        return quicksort(below) + [pivot] + quicksort(above)\n",
    "    else: \n",
    "        return xs\n",
    "    \n",
    "quicksort(n)"
   ]
  },
  {
   "cell_type": "code",
   "execution_count": 329,
   "metadata": {},
   "outputs": [],
   "source": [
    "def sort(array):\n",
    "    less = []\n",
    "    equal = []\n",
    "    greater = []\n",
    "    if len(array) > 1:\n",
    "        pivot = array[0]\n",
    "        for x in array:\n",
    "            if x < pivot:\n",
    "                less.append(x)\n",
    "            elif x == pivot:\n",
    "                equal.append(x)\n",
    "            elif x > pivot:\n",
    "                greater.append(x)\n",
    "        return sort(less)+equal+sort(greater)\n",
    "    else: \n",
    "        return array"
   ]
  },
  {
   "cell_type": "code",
   "execution_count": 330,
   "metadata": {},
   "outputs": [
    {
     "data": {
      "text/plain": [
       "[3, 7, 9, 11, 23, 27, 36, 45, 85, 96]"
      ]
     },
     "execution_count": 330,
     "metadata": {},
     "output_type": "execute_result"
    }
   ],
   "source": [
    "sort(n)"
   ]
  },
  {
   "cell_type": "markdown",
   "metadata": {},
   "source": [
    "<h2 style=\"direction: rtl;\">\n",
    "3 - \n",
    "دهمین عدد فیبوناچی را بیابید\n",
    "</h2>"
   ]
  },
  {
   "cell_type": "code",
   "execution_count": 331,
   "metadata": {},
   "outputs": [
    {
     "name": "stdout",
     "output_type": "stream",
     "text": [
      "34\n"
     ]
    }
   ],
   "source": [
    "def Fibonacci(n):\n",
    "    if n<=0:\n",
    "        print(\"Incorrect input\")\n",
    "    elif n==1:\n",
    "        return 0\n",
    "    elif n==2:\n",
    "        return 1\n",
    "    else:\n",
    "        return Fibonacci(n-1)+Fibonacci(n-2) \n",
    "\n",
    "    \n",
    "print(Fibonacci(10))"
   ]
  },
  {
   "cell_type": "markdown",
   "metadata": {},
   "source": [
    "<h2 style=\"direction: rtl;\">\n",
    "4 - \n",
    "رشته زیر را برعکس کنید</h2>"
   ]
  },
  {
   "cell_type": "code",
   "execution_count": 332,
   "metadata": {},
   "outputs": [
    {
     "data": {
      "text/plain": [
       "'ytisrevinU nanmeS'"
      ]
     },
     "execution_count": 332,
     "metadata": {},
     "output_type": "execute_result"
    }
   ],
   "source": [
    "Str='Semnan University'\n",
    "\n",
    "def reverse(s): \n",
    "  str = \"\" \n",
    "  for i in s: \n",
    "    str = i + str\n",
    "  return str\n",
    "\n",
    "reverse(Str)\n"
   ]
  },
  {
   "cell_type": "code",
   "execution_count": 333,
   "metadata": {},
   "outputs": [
    {
     "name": "stdout",
     "output_type": "stream",
     "text": [
      "ytisrevinU nanmeS\n"
     ]
    }
   ],
   "source": [
    "#esay way\n",
    "Str1='Semnan University'[::-1]\n",
    "print(Str1)"
   ]
  },
  {
   "cell_type": "markdown",
   "metadata": {},
   "source": [
    "<h2 style=\"direction: rtl;\">\n",
    "5 - \n",
    "ب م م دوعدد زیر را بیابید</h2>"
   ]
  },
  {
   "cell_type": "code",
   "execution_count": 334,
   "metadata": {},
   "outputs": [
    {
     "name": "stdout",
     "output_type": "stream",
     "text": [
      "Greatest common divisor : 6\n"
     ]
    }
   ],
   "source": [
    "def greatestcommondivisor(a,b): \n",
    "    if(b==0): \n",
    "        return a \n",
    "    else: \n",
    "        return greatestcommondivisor(b,a%b) \n",
    "  \n",
    "a = 654\n",
    "b = 744\n",
    "\n",
    "print(\"Greatest common divisor :\",greatestcommondivisor(a,b)) \n"
   ]
  },
  {
   "cell_type": "markdown",
   "metadata": {},
   "source": [
    "<h2 style=\"direction: rtl;\">\n",
    "6 -\n",
    "چهار عدد کامل بیابید\n",
    "</h2>"
   ]
  },
  {
   "cell_type": "code",
   "execution_count": 335,
   "metadata": {},
   "outputs": [
    {
     "name": "stdout",
     "output_type": "stream",
     "text": [
      "Below are all perfect numbers till 10000\n",
      "1 - perfect unmber is 6\n",
      "2 - perfect unmber is 28\n",
      "3 - perfect unmber is 496\n",
      "4 - perfect unmber is 8128\n"
     ]
    }
   ],
   "source": [
    "def isPerfect( n ):       \n",
    "    sum = 1      \n",
    "    i = 2\n",
    "    while i * i <= n: \n",
    "        if n % i == 0: \n",
    "            sum = sum + i + n/i \n",
    "        i += 1\n",
    "    return (True if sum == n and n!=1 else False) \n",
    "  \n",
    "\n",
    "print(\"Below are all perfect numbers till 10000\") \n",
    "n = 0\n",
    "i = 0\n",
    "for n in range (10000): \n",
    "    if isPerfect (n):\n",
    "        i = i+1\n",
    "        print(str(i) + \" - perfect unmber is \" + str(n))"
   ]
  },
  {
   "cell_type": "markdown",
   "metadata": {},
   "source": [
    "<h2 style=\"direction: rtl;\">\n",
    "7 -\n",
    "چک کنید عدد اول است یا نه \n",
    "</h2>"
   ]
  },
  {
   "cell_type": "code",
   "execution_count": 336,
   "metadata": {},
   "outputs": [
    {
     "name": "stdout",
     "output_type": "stream",
     "text": [
      "23543 is not a prime number\n"
     ]
    }
   ],
   "source": [
    "def isprime(num):   \n",
    "    if num > 1: \n",
    "        for i in range(2, num): \n",
    "            if (num % i) == 0: \n",
    "                num = False\n",
    "                break\n",
    "        else: \n",
    "            num = True\n",
    "    else: \n",
    "        num = False\n",
    "    return num\n",
    "    \n",
    "number = 23543\n",
    "\n",
    "if isprime(number) is True:\n",
    "    print(str(number)+\" is a prime number\")\n",
    "else:\n",
    "    print(str(number)+\" is not a prime number\")\n"
   ]
  },
  {
   "cell_type": "markdown",
   "metadata": {},
   "source": [
    "<h2 style=\"direction: rtl;\">\n",
    "8 -\n",
    "اعداد اول بین ۱۰۰۰ تا ۲۰۰۰ را چاپ کنید\n",
    "</h2>"
   ]
  },
  {
   "cell_type": "code",
   "execution_count": 337,
   "metadata": {},
   "outputs": [
    {
     "name": "stdout",
     "output_type": "stream",
     "text": [
      "1009\n",
      "1013\n",
      "1019\n",
      "1021\n",
      "1031\n",
      "1033\n",
      "1039\n",
      "1049\n",
      "1051\n",
      "1061\n",
      "1063\n",
      "1069\n",
      "1087\n",
      "1091\n",
      "1093\n",
      "1097\n",
      "1103\n",
      "1109\n",
      "1117\n",
      "1123\n",
      "1129\n",
      "1151\n",
      "1153\n",
      "1163\n",
      "1171\n",
      "1181\n",
      "1187\n",
      "1193\n",
      "1201\n",
      "1213\n",
      "1217\n",
      "1223\n",
      "1229\n",
      "1231\n",
      "1237\n",
      "1249\n",
      "1259\n",
      "1277\n",
      "1279\n",
      "1283\n",
      "1289\n",
      "1291\n",
      "1297\n",
      "1301\n",
      "1303\n",
      "1307\n",
      "1319\n",
      "1321\n",
      "1327\n",
      "1361\n",
      "1367\n",
      "1373\n",
      "1381\n",
      "1399\n",
      "1409\n",
      "1423\n",
      "1427\n",
      "1429\n",
      "1433\n",
      "1439\n",
      "1447\n",
      "1451\n",
      "1453\n",
      "1459\n",
      "1471\n",
      "1481\n",
      "1483\n",
      "1487\n",
      "1489\n",
      "1493\n",
      "1499\n",
      "1511\n",
      "1523\n",
      "1531\n",
      "1543\n",
      "1549\n",
      "1553\n",
      "1559\n",
      "1567\n",
      "1571\n",
      "1579\n",
      "1583\n",
      "1597\n",
      "1601\n",
      "1607\n",
      "1609\n",
      "1613\n",
      "1619\n",
      "1621\n",
      "1627\n",
      "1637\n",
      "1657\n",
      "1663\n",
      "1667\n",
      "1669\n",
      "1693\n",
      "1697\n",
      "1699\n",
      "1709\n",
      "1721\n",
      "1723\n",
      "1733\n",
      "1741\n",
      "1747\n",
      "1753\n",
      "1759\n",
      "1777\n",
      "1783\n",
      "1787\n",
      "1789\n",
      "1801\n",
      "1811\n",
      "1823\n",
      "1831\n",
      "1847\n",
      "1861\n",
      "1867\n",
      "1871\n",
      "1873\n",
      "1877\n",
      "1879\n",
      "1889\n",
      "1901\n",
      "1907\n",
      "1913\n",
      "1931\n",
      "1933\n",
      "1949\n",
      "1951\n",
      "1973\n",
      "1979\n",
      "1987\n",
      "1993\n",
      "1997\n",
      "1999\n"
     ]
    }
   ],
   "source": [
    "for i in range(1000,2000):\n",
    "    if isprime(i) is True:\n",
    "        print(i)\n",
    "        "
   ]
  },
  {
   "cell_type": "markdown",
   "metadata": {},
   "source": [
    "<h2 style=\"direction: rtl;\">\n",
    "9 -\n",
    "خروجی مطلوب را چاپ کنید\n",
    "</h2>"
   ]
  },
  {
   "cell_type": "code",
   "execution_count": 338,
   "metadata": {},
   "outputs": [
    {
     "name": "stdout",
     "output_type": "stream",
     "text": [
      "*****\n",
      "-****\n",
      "--***\n",
      "---**\n",
      "----*\n"
     ]
    }
   ],
   "source": [
    "\n",
    "def star(n):\n",
    "    list = ['*'] * (n)\n",
    "    b = 0\n",
    "    for i in list:\n",
    "        chap = \"\"\n",
    "        print(chap.join(list))\n",
    "        list[b] = \"-\"\n",
    "        b = b+1\n",
    "\n",
    "\n",
    "star(5)"
   ]
  },
  {
   "cell_type": "markdown",
   "metadata": {},
   "source": [
    "<h2 style=\"direction: rtl;\">\n",
    "10 -\n",
    "در رشته زیر عمل جایگزینی را انجام دهید\n",
    "</h2>"
   ]
  },
  {
   "cell_type": "code",
   "execution_count": 339,
   "metadata": {},
   "outputs": [
    {
     "name": "stdout",
     "output_type": "stream",
     "text": [
      "Before = Semnan University\n",
      "After = Szsmnan Univzsrsity\n"
     ]
    }
   ],
   "source": [
    "str2='Semnan University'\n",
    "str3=\"\"\n",
    "string = list(str2)\n",
    "result = []\n",
    "for i in string:\n",
    "        if i == 'e':\n",
    "                i = 'zs'\n",
    "        result.append(i)\n",
    "str3 = str3.join(result)\n",
    "print(\"Before = \"+str2)\n",
    "print(\"After = \"+str3)\n"
   ]
  },
  {
   "cell_type": "code",
   "execution_count": null,
   "metadata": {},
   "outputs": [],
   "source": []
  },
  {
   "cell_type": "code",
   "execution_count": null,
   "metadata": {},
   "outputs": [],
   "source": []
  },
  {
   "cell_type": "code",
   "execution_count": null,
   "metadata": {},
   "outputs": [],
   "source": []
  }
 ],
 "metadata": {
  "kernelspec": {
   "display_name": "Python 3",
   "language": "python",
   "name": "python3"
  },
  "language_info": {
   "codemirror_mode": {
    "name": "ipython",
    "version": 3
   },
   "file_extension": ".py",
   "mimetype": "text/x-python",
   "name": "python",
   "nbconvert_exporter": "python",
   "pygments_lexer": "ipython3",
   "version": "3.7.6"
  }
 },
 "nbformat": 4,
 "nbformat_minor": 4
}
